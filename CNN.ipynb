{
 "cells": [
  {
   "cell_type": "code",
   "execution_count": 1,
   "id": "187519d8",
   "metadata": {},
   "outputs": [
    {
     "name": "stderr",
     "output_type": "stream",
     "text": [
      "C:\\Users\\sathy\\anaconda3\\lib\\site-packages\\scipy\\__init__.py:146: UserWarning: A NumPy version >=1.16.5 and <1.23.0 is required for this version of SciPy (detected version 1.24.3\n",
      "  warnings.warn(f\"A NumPy version >={np_minversion} and <{np_maxversion}\"\n"
     ]
    }
   ],
   "source": [
    "import tensorflow as tf  \n",
    "from keras.preprocessing.image import ImageDataGenerator "
   ]
  },
  {
   "cell_type": "code",
   "execution_count": 2,
   "id": "987f0f8a",
   "metadata": {},
   "outputs": [
    {
     "data": {
      "text/plain": [
       "'2.13.0'"
      ]
     },
     "execution_count": 2,
     "metadata": {},
     "output_type": "execute_result"
    }
   ],
   "source": [
    "tf.__version__  "
   ]
  },
  {
   "cell_type": "code",
   "execution_count": 3,
   "id": "03f935b4",
   "metadata": {},
   "outputs": [],
   "source": [
    "train_datagen = ImageDataGenerator(rescale = 1./255,  \n",
    "                                   shear_range = 0.2,  \n",
    "                                   zoom_range = 0.2,  \n",
    "                                   horizontal_flip = True)  "
   ]
  },
  {
   "cell_type": "code",
   "execution_count": 36,
   "id": "f7d6fa97",
   "metadata": {},
   "outputs": [
    {
     "name": "stdout",
     "output_type": "stream",
     "text": [
      "Found 468 images belonging to 2 classes.\n"
     ]
    }
   ],
   "source": [
    "training_set = train_datagen.flow_from_directory(r\"C:\\Users\\sathy\\Downloads\\cat or dog dataset\\training_set\\training_set\",  \n",
    "                                                 target_size = (64, 64),  \n",
    "                                                 batch_size = 32,  \n",
    "                                                 class_mode = 'binary') "
   ]
  },
  {
   "cell_type": "code",
   "execution_count": 32,
   "id": "e2ba204c",
   "metadata": {},
   "outputs": [],
   "source": [
    "test_datagen = ImageDataGenerator(rescale = 1./255)  "
   ]
  },
  {
   "cell_type": "code",
   "execution_count": 37,
   "id": "ee6491a7",
   "metadata": {},
   "outputs": [
    {
     "name": "stdout",
     "output_type": "stream",
     "text": [
      "Found 2023 images belonging to 2 classes.\n"
     ]
    }
   ],
   "source": [
    "test_set = test_datagen.flow_from_directory(r\"C:\\Users\\sathy\\Downloads\\cat or dog dataset\\test_set\\test_set\",  \n",
    "                                            target_size = (64, 64),  \n",
    "                                            batch_size = 32,  \n",
    "                                            class_mode = 'binary')"
   ]
  },
  {
   "cell_type": "code",
   "execution_count": 38,
   "id": "230fb932",
   "metadata": {},
   "outputs": [],
   "source": [
    "cnn = tf.keras.models.Sequential()  "
   ]
  },
  {
   "cell_type": "code",
   "execution_count": 39,
   "id": "25dbd80f",
   "metadata": {},
   "outputs": [],
   "source": [
    "cnn.add(tf.keras.layers.Conv2D(filters=32, kernel_size=3, activation='relu', input_shape=[64, 64, 3]))  "
   ]
  },
  {
   "cell_type": "code",
   "execution_count": 40,
   "id": "4fa0222b",
   "metadata": {},
   "outputs": [],
   "source": [
    "cnn.add(tf.keras.layers.MaxPool2D(pool_size=2, strides=2)) "
   ]
  },
  {
   "cell_type": "code",
   "execution_count": 41,
   "id": "22289a99",
   "metadata": {},
   "outputs": [],
   "source": [
    "cnn.add(tf.keras.layers.Conv2D(filters=32, kernel_size=3, activation='relu'))  \n",
    "cnn.add(tf.keras.layers.MaxPool2D(pool_size=2, strides=2))  "
   ]
  },
  {
   "cell_type": "code",
   "execution_count": 42,
   "id": "59c8281f",
   "metadata": {},
   "outputs": [],
   "source": [
    "cnn.add(tf.keras.layers.Flatten())"
   ]
  },
  {
   "cell_type": "code",
   "execution_count": 43,
   "id": "05f35811",
   "metadata": {},
   "outputs": [],
   "source": [
    "cnn.add(tf.keras.layers.Dense(units=128, activation='relu')) "
   ]
  },
  {
   "cell_type": "code",
   "execution_count": 44,
   "id": "f431259a",
   "metadata": {},
   "outputs": [],
   "source": [
    "cnn.add(tf.keras.layers.Dense(units=1, activation='sigmoid')) "
   ]
  },
  {
   "cell_type": "code",
   "execution_count": 45,
   "id": "5db4dfeb",
   "metadata": {},
   "outputs": [],
   "source": [
    "cnn.compile(optimizer = 'adam', loss = 'binary_crossentropy', metrics = ['accuracy']) "
   ]
  },
  {
   "cell_type": "code",
   "execution_count": 46,
   "id": "b7625c17",
   "metadata": {},
   "outputs": [
    {
     "name": "stdout",
     "output_type": "stream",
     "text": [
      "Epoch 1/25\n",
      "15/15 [==============================] - 26s 1s/step - loss: 0.7113 - accuracy: 0.5363 - val_loss: 0.6923 - val_accuracy: 0.5007\n",
      "Epoch 2/25\n",
      "15/15 [==============================] - 21s 1s/step - loss: 0.6936 - accuracy: 0.4679 - val_loss: 0.6922 - val_accuracy: 0.5017\n",
      "Epoch 3/25\n",
      "15/15 [==============================] - 20s 1s/step - loss: 0.6907 - accuracy: 0.5513 - val_loss: 0.6899 - val_accuracy: 0.5423\n",
      "Epoch 4/25\n",
      "15/15 [==============================] - 20s 1s/step - loss: 0.6843 - accuracy: 0.5620 - val_loss: 0.6825 - val_accuracy: 0.5403\n",
      "Epoch 5/25\n",
      "15/15 [==============================] - 21s 1s/step - loss: 0.6637 - accuracy: 0.5769 - val_loss: 0.6904 - val_accuracy: 0.5373\n",
      "Epoch 6/25\n",
      "15/15 [==============================] - 21s 1s/step - loss: 0.6423 - accuracy: 0.6496 - val_loss: 0.6764 - val_accuracy: 0.5670\n",
      "Epoch 7/25\n",
      "15/15 [==============================] - 20s 1s/step - loss: 0.6063 - accuracy: 0.6859 - val_loss: 0.6805 - val_accuracy: 0.5892\n",
      "Epoch 8/25\n",
      "15/15 [==============================] - 21s 1s/step - loss: 0.6029 - accuracy: 0.6581 - val_loss: 0.6343 - val_accuracy: 0.6436\n",
      "Epoch 9/25\n",
      "15/15 [==============================] - 22s 1s/step - loss: 0.5491 - accuracy: 0.7286 - val_loss: 0.6354 - val_accuracy: 0.6456\n",
      "Epoch 10/25\n",
      "15/15 [==============================] - 21s 1s/step - loss: 0.5393 - accuracy: 0.7179 - val_loss: 0.6667 - val_accuracy: 0.6317\n",
      "Epoch 11/25\n",
      "15/15 [==============================] - 22s 1s/step - loss: 0.5396 - accuracy: 0.7051 - val_loss: 0.7137 - val_accuracy: 0.6174\n",
      "Epoch 12/25\n",
      "15/15 [==============================] - 21s 1s/step - loss: 0.5527 - accuracy: 0.7415 - val_loss: 0.6393 - val_accuracy: 0.6327\n",
      "Epoch 13/25\n",
      "15/15 [==============================] - 20s 1s/step - loss: 0.5443 - accuracy: 0.7222 - val_loss: 0.6436 - val_accuracy: 0.6668\n",
      "Epoch 14/25\n",
      "15/15 [==============================] - 20s 1s/step - loss: 0.4964 - accuracy: 0.7778 - val_loss: 0.6812 - val_accuracy: 0.6614\n",
      "Epoch 15/25\n",
      "15/15 [==============================] - 21s 1s/step - loss: 0.4767 - accuracy: 0.7906 - val_loss: 0.6763 - val_accuracy: 0.6530\n",
      "Epoch 16/25\n",
      "15/15 [==============================] - 20s 1s/step - loss: 0.5210 - accuracy: 0.7073 - val_loss: 0.6824 - val_accuracy: 0.6248\n",
      "Epoch 17/25\n",
      "15/15 [==============================] - 20s 1s/step - loss: 0.4759 - accuracy: 0.7692 - val_loss: 0.6953 - val_accuracy: 0.6476\n",
      "Epoch 18/25\n",
      "15/15 [==============================] - 21s 1s/step - loss: 0.4249 - accuracy: 0.7949 - val_loss: 0.6873 - val_accuracy: 0.6757\n",
      "Epoch 19/25\n",
      "15/15 [==============================] - 20s 1s/step - loss: 0.4267 - accuracy: 0.8034 - val_loss: 0.7162 - val_accuracy: 0.6550\n",
      "Epoch 20/25\n",
      "15/15 [==============================] - 20s 1s/step - loss: 0.3733 - accuracy: 0.8397 - val_loss: 0.7300 - val_accuracy: 0.6490\n",
      "Epoch 21/25\n",
      "15/15 [==============================] - 20s 1s/step - loss: 0.3754 - accuracy: 0.8419 - val_loss: 0.6976 - val_accuracy: 0.6831\n",
      "Epoch 22/25\n",
      "15/15 [==============================] - 21s 1s/step - loss: 0.3825 - accuracy: 0.8226 - val_loss: 0.7788 - val_accuracy: 0.6550\n",
      "Epoch 23/25\n",
      "15/15 [==============================] - 20s 1s/step - loss: 0.3620 - accuracy: 0.8312 - val_loss: 0.7963 - val_accuracy: 0.6436\n",
      "Epoch 24/25\n",
      "15/15 [==============================] - 20s 1s/step - loss: 0.3805 - accuracy: 0.8205 - val_loss: 0.7035 - val_accuracy: 0.6728\n",
      "Epoch 25/25\n",
      "15/15 [==============================] - 21s 1s/step - loss: 0.3357 - accuracy: 0.8462 - val_loss: 0.8467 - val_accuracy: 0.6500\n"
     ]
    },
    {
     "data": {
      "text/plain": [
       "<keras.src.callbacks.History at 0x260a2d284c0>"
      ]
     },
     "execution_count": 46,
     "metadata": {},
     "output_type": "execute_result"
    }
   ],
   "source": [
    "cnn.fit(x = training_set, validation_data = test_set, epochs = 25) "
   ]
  },
  {
   "cell_type": "code",
   "execution_count": 48,
   "id": "07c2d0d4",
   "metadata": {},
   "outputs": [
    {
     "name": "stdout",
     "output_type": "stream",
     "text": [
      "1/1 [==============================] - 7s 7s/step\n",
      "dog\n"
     ]
    }
   ],
   "source": [
    "import numpy as np  \n",
    "from keras.preprocessing import image  \n",
    "test_image = image.load_img(r\"C:\\Users\\sathy\\Downloads\\cat or dog dataset\\test_set\\test_set\\dogs\\dog.4987.jpg\", target_size = (64, 64))  \n",
    "test_image = image.img_to_array(test_image)  \n",
    "test_image = np.expand_dims(test_image, axis = 0)  \n",
    "result = cnn.predict(test_image)  \n",
    "training_set.class_indices  \n",
    "if result[0][0] == 1:  \n",
    "  prediction = 'dog'  \n",
    "else:  \n",
    "  prediction = 'cat'  \n",
    "  \n",
    "print(prediction)"
   ]
  },
  {
   "cell_type": "code",
   "execution_count": null,
   "id": "aa5b6e58",
   "metadata": {},
   "outputs": [],
   "source": []
  },
  {
   "cell_type": "code",
   "execution_count": null,
   "id": "693dab97",
   "metadata": {},
   "outputs": [],
   "source": []
  },
  {
   "cell_type": "code",
   "execution_count": null,
   "id": "c9ef0cc7",
   "metadata": {},
   "outputs": [],
   "source": []
  },
  {
   "cell_type": "code",
   "execution_count": null,
   "id": "2aaf6425",
   "metadata": {},
   "outputs": [],
   "source": []
  },
  {
   "cell_type": "code",
   "execution_count": null,
   "id": "9198b9d4",
   "metadata": {},
   "outputs": [],
   "source": []
  },
  {
   "cell_type": "code",
   "execution_count": null,
   "id": "a665c1ba",
   "metadata": {},
   "outputs": [],
   "source": []
  }
 ],
 "metadata": {
  "kernelspec": {
   "display_name": "Python 3 (ipykernel)",
   "language": "python",
   "name": "python3"
  },
  "language_info": {
   "codemirror_mode": {
    "name": "ipython",
    "version": 3
   },
   "file_extension": ".py",
   "mimetype": "text/x-python",
   "name": "python",
   "nbconvert_exporter": "python",
   "pygments_lexer": "ipython3",
   "version": "3.9.12"
  }
 },
 "nbformat": 4,
 "nbformat_minor": 5
}
